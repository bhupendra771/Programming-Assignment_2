{
 "cells": [
  {
   "cell_type": "code",
   "execution_count": 2,
   "id": "4f81799d",
   "metadata": {},
   "outputs": [
    {
     "name": "stdout",
     "output_type": "stream",
     "text": [
      "Please enter number of kilometers\n",
      "25\n",
      "Miles is  15.537600994406464\n"
     ]
    }
   ],
   "source": [
    "# 1.\tWrite a Python program to convert kilometers to miles?\n",
    "# we know that 1 miles = 1.60934 KM\n",
    "a = int(input(\"Please enter number of kilometers\\n\"))\n",
    "miles = a/1.609\n",
    "\n",
    "print(\"Miles is \",miles)\n"
   ]
  },
  {
   "cell_type": "code",
   "execution_count": 8,
   "id": "c6431fee",
   "metadata": {},
   "outputs": [
    {
     "name": "stdout",
     "output_type": "stream",
     "text": [
      "Please enter number of Celsius value\n",
      "37\n",
      "Fahrenheit is  98.6\n"
     ]
    }
   ],
   "source": [
    "# 2.\tWrite a Python program to convert Celsius to Fahrenheit?\n",
    "# (0°C × 9/5) + 32 = 32°F\n",
    "C = int(input(\"Please enter number of Celsius value\\n\"))\n",
    "F =(C* 9/5) + 32\n",
    "\n",
    "print(\"Fahrenheit is \",F)\n"
   ]
  },
  {
   "cell_type": "code",
   "execution_count": 12,
   "id": "6d0ae6f7",
   "metadata": {},
   "outputs": [
    {
     "name": "stdout",
     "output_type": "stream",
     "text": [
      "enter year2022\n",
      "enter month07\n",
      "\n",
      "      July 2022\n",
      "Mo Tu We Th Fr Sa Su\n",
      "             1  2  3\n",
      " 4  5  6  7  8  9 10\n",
      "11 12 13 14 15 16 17\n",
      "18 19 20 21 22 23 24\n",
      "25 26 27 28 29 30 31\n",
      "\n"
     ]
    }
   ],
   "source": [
    "# 3.\tWrite a Python program to display calendar?\n",
    "import calendar\n",
    "yy=int(input(\"enter year\"))\n",
    "mm=int(input(\"enter month\"))\n",
    "\n",
    "print('\\n',calendar.month(yy,mm))"
   ]
  },
  {
   "cell_type": "code",
   "execution_count": 14,
   "id": "375e4054",
   "metadata": {},
   "outputs": [
    {
     "name": "stdout",
     "output_type": "stream",
     "text": [
      "enter a1\n",
      "enter b2\n",
      "enter c3\n",
      "enter x4\n",
      "27\n"
     ]
    }
   ],
   "source": [
    "# 4.\tWrite a Python program to solve quadratic equation?\n",
    "# quadratic equation ax^2+bx+c=0\n",
    "a =int(input(\"enter a\"))\n",
    "b =int(input(\"enter b\"))\n",
    "c =int(input(\"enter c\"))\n",
    "x =int(input(\"enter x\"))\n",
    "\n",
    "import cmath\n",
    "quadratic = a*x**2+b*x+c\n",
    "print(quadratic)\n",
    "\n",
    "\n"
   ]
  },
  {
   "cell_type": "code",
   "execution_count": 15,
   "id": "83238122",
   "metadata": {},
   "outputs": [
    {
     "name": "stdout",
     "output_type": "stream",
     "text": [
      "enter varible a2\n",
      "enter variable b4\n",
      "Variable is swapped now 4 2\n"
     ]
    }
   ],
   "source": [
    "#Q5\n",
    "a = int(input(\"enter varible a\"))\n",
    "b = int(input(\"enter variable b\"))\n",
    "a,b =b,a\n",
    "print('Variable is swapped now',a,b)"
   ]
  },
  {
   "cell_type": "code",
   "execution_count": null,
   "id": "d3cdb1eb",
   "metadata": {},
   "outputs": [],
   "source": []
  }
 ],
 "metadata": {
  "kernelspec": {
   "display_name": "Python 3 (ipykernel)",
   "language": "python",
   "name": "python3"
  },
  "language_info": {
   "codemirror_mode": {
    "name": "ipython",
    "version": 3
   },
   "file_extension": ".py",
   "mimetype": "text/x-python",
   "name": "python",
   "nbconvert_exporter": "python",
   "pygments_lexer": "ipython3",
   "version": "3.9.7"
  }
 },
 "nbformat": 4,
 "nbformat_minor": 5
}
